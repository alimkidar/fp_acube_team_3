{
 "cells": [
  {
   "cell_type": "code",
   "execution_count": 29,
   "metadata": {},
   "outputs": [],
   "source": [
    "import pandas as pd\n",
    "import numpy as np\n",
    "import time\n",
    "import re"
   ]
  },
  {
   "cell_type": "code",
   "execution_count": 31,
   "metadata": {},
   "outputs": [
    {
     "name": "stderr",
     "output_type": "stream",
     "text": [
      "C:\\Users\\alim.hanif\\AppData\\Local\\Continuum\\anaconda3\\envs\\acube\\lib\\site-packages\\ipykernel_launcher.py:28: DeprecationWarning: use options instead of chrome_options\n"
     ]
    }
   ],
   "source": [
    "from selenium import webdriver\n",
    "from selenium.common.exceptions import TimeoutException\n",
    "from selenium.webdriver.chrome.options import Options\n",
    "from selenium.webdriver.common.by import By\n",
    "from selenium.webdriver.support import expected_conditions as EC\n",
    "from selenium.webdriver.support.ui import WebDriverWait\n",
    "from datetime import datetime\n",
    "from selenium.webdriver.common.keys import Keys\n",
    "\n",
    "from bs4 import BeautifulSoup as soup\n",
    "\n",
    "global driver\n",
    "\n",
    "options = Options()\n",
    "\n",
    "#  Code to disable notifications pop up of Chrome Browser\n",
    "options.add_argument(\"--disable-notifications\")\n",
    "options.add_argument(\"--disable-infobars\")\n",
    "options.add_argument(\"--mute-audio\")\n",
    "# options.add_argument(\"headless\")\n",
    "\n",
    "cr_option = webdriver.ChromeOptions()\n",
    "chrome_prefs = {}\n",
    "cr_option.experimental_options[\"prefs\"] = chrome_prefs\n",
    "chrome_prefs[\"profile.default_content_settings\"] = {\"images\": 2}\n",
    "chrome_prefs[\"profile.managed_default_content_settings\"] = {\"images\": 2}\n",
    "\n",
    "driver = webdriver.Chrome(executable_path=r'chromedriver.exe', options=options, chrome_options=cr_option)"
   ]
  },
  {
   "cell_type": "code",
   "execution_count": 32,
   "metadata": {},
   "outputs": [],
   "source": [
    "def scrape_gsm(raw_keyword_):\n",
    "    raw_keyword = raw_keyword_\n",
    "    driver.get(\"https://google.com\")\n",
    "\n",
    "    element = driver.find_element_by_name(\"q\")\n",
    "    element.clear()\n",
    "    element.send_keys(raw_keyword)\n",
    "\n",
    "    driver.find_element_by_name(\"q\").send_keys(Keys.RETURN)\n",
    "\n",
    "    try:\n",
    "        c=driver.find_elements_by_xpath(\"//a[@class='gL9Hy']\")\n",
    "        rec_keyword = soup(c[0].get_attribute('innerHTML')).text\n",
    "    except:\n",
    "        driver.get(\"https://en.wikipedia.org/wiki/Main_Page\")\n",
    "        driver.get(\"https://google.com\")\n",
    "        print(raw_keyword)\n",
    "        input('pause')\n",
    "        c=driver.find_elements_by_xpath(\"//a[@class='gL9Hy']\")\n",
    "        rec_keyword = soup(c[0].get_attribute('innerHTML')).text\n",
    "\n",
    "    c = driver.find_elements_by_xpath(\"//div[@class='r']\")\n",
    "    for i in c:\n",
    "        page_soup = soup(i.get_attribute('innerHTML'))\n",
    "        href = page_soup.a['href']\n",
    "        if 'gsmarena' in href and 'compare' not in href:\n",
    "            # print(href)\n",
    "            break\n",
    "    return raw_keyword_, rec_keyword, href\n",
    "    \n"
   ]
  },
  {
   "cell_type": "code",
   "execution_count": 38,
   "metadata": {},
   "outputs": [],
   "source": [
    "df_cek = pd.DataFrame({'type': ['xiaomi note 5']})"
   ]
  },
  {
   "cell_type": "code",
   "execution_count": 39,
   "metadata": {},
   "outputs": [
    {
     "name": "stdout",
     "output_type": "stream",
     "text": [
      "1/1 xiaomi note 5 gsmarena\n"
     ]
    }
   ],
   "source": [
    "data = []\n",
    "data_href = []\n",
    "count = 1\n",
    "df_r = pd.DataFrame()\n",
    "\n",
    "for index, row in df_cek.iterrows():\n",
    "    df_temp = pd.DataFrame()\n",
    "    tipe_hp = '-'\n",
    "    type_ = row['type']\n",
    "    if type_ != '-':\n",
    "        raw_keyword, rec_keyword, href = scrape_gsm(type_+' gsmarena')\n",
    "        if href not in data_href:\n",
    "            data_href.append(href)\n",
    "            driver.get(href)\n",
    "            time.sleep(1)\n",
    "            try:\n",
    "                c=driver.find_element_by_xpath(\"//h1[@class='specs-phone-name-title']\")\n",
    "                tipe_hp = re.sub(r'\\s+', ' ', soup(c.get_attribute('innerHTML')).text)\n",
    "                df_page = pd.read_html(driver.page_source)\n",
    "                for i in range(len(df_page)):\n",
    "                    df_temp = df_temp.append(df_page[i])\n",
    "                df_temp = df_temp.dropna()\n",
    "                df_temp['type']= tipe_hp\n",
    "                df_r = df_r.append(df_temp)\n",
    "            except:\n",
    "                tipe_hp = '--'\n",
    "        else:\n",
    "            tipe_hp = '-'\n",
    "    else:\n",
    "        raw_keyword, rec_keyword, href = '','',''\n",
    "    data.append({'raw_keyword':type_, 'rec_keyword': rec_keyword,'type': tipe_hp, 'href':href})\n",
    "    print(str(count)+'/'+str(len(df_cek))+' '+raw_keyword)\n",
    "    count += 1"
   ]
  },
  {
   "cell_type": "code",
   "execution_count": 40,
   "metadata": {},
   "outputs": [
    {
     "data": {
      "text/html": [
       "<div>\n",
       "<style scoped>\n",
       "    .dataframe tbody tr th:only-of-type {\n",
       "        vertical-align: middle;\n",
       "    }\n",
       "\n",
       "    .dataframe tbody tr th {\n",
       "        vertical-align: top;\n",
       "    }\n",
       "\n",
       "    .dataframe thead th {\n",
       "        text-align: right;\n",
       "    }\n",
       "</style>\n",
       "<table border=\"1\" class=\"dataframe\">\n",
       "  <thead>\n",
       "    <tr style=\"text-align: right;\">\n",
       "      <th></th>\n",
       "      <th>href</th>\n",
       "      <th>raw_keyword</th>\n",
       "      <th>rec_keyword</th>\n",
       "      <th>type</th>\n",
       "    </tr>\n",
       "  </thead>\n",
       "  <tbody>\n",
       "    <tr>\n",
       "      <th>0</th>\n",
       "      <td>https://www.gsmarena.com/xiaomi_redmi_note_5_a...</td>\n",
       "      <td>xiaomi note 5</td>\n",
       "      <td></td>\n",
       "      <td>Xiaomi Redmi Note 5 AI Dual Camera</td>\n",
       "    </tr>\n",
       "  </tbody>\n",
       "</table>\n",
       "</div>"
      ],
      "text/plain": [
       "                                                href    raw_keyword  \\\n",
       "0  https://www.gsmarena.com/xiaomi_redmi_note_5_a...  xiaomi note 5   \n",
       "\n",
       "  rec_keyword                                type  \n",
       "0              Xiaomi Redmi Note 5 AI Dual Camera  "
      ]
     },
     "execution_count": 40,
     "metadata": {},
     "output_type": "execute_result"
    }
   ],
   "source": [
    "df_result = pd.DataFrame(data)\n",
    "# df_result.to_csv('df_hp_with_specs.csv')\n",
    "df_result"
   ]
  }
 ],
 "metadata": {
  "kernelspec": {
   "display_name": "Python [conda env:acube] *",
   "language": "python",
   "name": "conda-env-acube-py"
  },
  "language_info": {
   "codemirror_mode": {
    "name": "ipython",
    "version": 3
   },
   "file_extension": ".py",
   "mimetype": "text/x-python",
   "name": "python",
   "nbconvert_exporter": "python",
   "pygments_lexer": "ipython3",
   "version": "3.7.3"
  }
 },
 "nbformat": 4,
 "nbformat_minor": 2
}
